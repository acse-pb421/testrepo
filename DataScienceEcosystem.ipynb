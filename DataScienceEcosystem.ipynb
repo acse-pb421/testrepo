{
 "cells": [
  {
   "cell_type": "markdown",
   "id": "7141c11e-e76d-476c-a0ba-7be1875ba1cc",
   "metadata": {},
   "source": [
    "# Data Science Tools and Ecosystem"
   ]
  },
  {
   "cell_type": "markdown",
   "id": "b2777837-82a0-4bb3-847f-ac5ae1555723",
   "metadata": {},
   "source": [
    "In this notebook, Data Science Tools and Ecosystem are summarized."
   ]
  },
  {
   "cell_type": "markdown",
   "id": "f29030af-95e9-4392-a094-61c5d36e20ed",
   "metadata": {},
   "source": [
    "**Objectives:**\n",
    "\n",
    "- List popular languages for Data Science\n",
    "- Identify key libraries used in Data Science\n",
    "- Understand different Data Science tools and environments\n",
    "- Perform basic data manipulation and analysis\n",
    "- Visualize data using various plotting techniques\n"
   ]
  },
  {
   "cell_type": "markdown",
   "id": "50f8bfb7-cc72-4225-bc61-b5ae8652e099",
   "metadata": {},
   "source": [
    "Some of the commonly used libraries used by Data Scientists include:\n",
    "\n",
    "    1. Python\n",
    "    2. SQL\n",
    "    3. R"
   ]
  },
  {
   "cell_type": "markdown",
   "id": "6d53dd46-e4b9-44af-8d66-407a3bff1def",
   "metadata": {},
   "source": [
    "Some of the commonly used libraries used by Data Scientists include:\n",
    "\n",
    "1. numpy\n",
    "2. Scipy\n",
    "3. Pandas"
   ]
  },
  {
   "cell_type": "markdown",
   "id": "ec7b64f4-c005-4fc9-941f-c596910f994c",
   "metadata": {},
   "source": [
    "| Data Science Tools        |\n",
    "|---------------------------|\n",
    "| Jupyter Notebook           |\n",
    "| RStudio                    |\n",
    "| Apache Zeppelin            |\n"
   ]
  },
  {
   "cell_type": "markdown",
   "id": "6644c47e-bac4-47ca-bf04-a2140c47ea82",
   "metadata": {},
   "source": [
    "### Below are a few examples of evaluating arithmetic expressions in Python"
   ]
  },
  {
   "cell_type": "code",
   "execution_count": 1,
   "id": "8dae5783-c790-4865-b71f-14343aa1cf87",
   "metadata": {
    "tags": []
   },
   "outputs": [
    {
     "data": {
      "text/plain": [
       "17"
      ]
     },
     "execution_count": 1,
     "metadata": {},
     "output_type": "execute_result"
    }
   ],
   "source": [
    "# This a simple arithmetic expression to mutiply then add integers\n",
    "(3*4)+5"
   ]
  },
  {
   "cell_type": "code",
   "execution_count": 2,
   "id": "3f0e3ee4-a0f4-4dbe-8527-29e21214bec9",
   "metadata": {
    "tags": []
   },
   "outputs": [
    {
     "data": {
      "text/plain": [
       "3.3333333333333335"
      ]
     },
     "execution_count": 2,
     "metadata": {},
     "output_type": "execute_result"
    }
   ],
   "source": [
    "# This will convert 200 minutes to hours by dividing by 60\n",
    "minutes = 200\n",
    "hours = minutes / 60\n",
    "hours"
   ]
  },
  {
   "cell_type": "markdown",
   "id": "8c3b9f7d-dc72-4fb1-8fab-2040376618b2",
   "metadata": {},
   "source": [
    "## Author\n",
    "\n",
    "Pietro\n"
   ]
  },
  {
   "cell_type": "code",
   "execution_count": null,
   "id": "94597948-0bf7-44ca-9d9d-9eecce17e689",
   "metadata": {},
   "outputs": [],
   "source": []
  }
 ],
 "metadata": {
  "kernelspec": {
   "display_name": "Python",
   "language": "python",
   "name": "conda-env-python-py"
  },
  "language_info": {
   "codemirror_mode": {
    "name": "ipython",
    "version": 3
   },
   "file_extension": ".py",
   "mimetype": "text/x-python",
   "name": "python",
   "nbconvert_exporter": "python",
   "pygments_lexer": "ipython3",
   "version": "3.7.12"
  }
 },
 "nbformat": 4,
 "nbformat_minor": 5
}
